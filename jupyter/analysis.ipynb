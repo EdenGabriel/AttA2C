{
 "cells": [
  {
   "cell_type": "code",
   "execution_count": 1,
   "metadata": {
    "pycharm": {
     "is_executing": false
    }
   },
   "outputs": [],
   "source": [
    "import matplotlib.pyplot as plt\n",
    "from os.path import isfile, join, abspath, dirname\n",
    "from os import listdir\n",
    "import sys\n",
    "import pandas as pd\n",
    "import numpy as np"
   ]
  },
  {
   "cell_type": "code",
   "execution_count": 2,
   "metadata": {
    "pycharm": {
     "is_executing": false
    }
   },
   "outputs": [],
   "source": [
    "%matplotlib inline\n",
    "%load_ext autoreload\n",
    "%autoreload 2"
   ]
  },
  {
   "cell_type": "code",
   "execution_count": 3,
   "metadata": {
    "pycharm": {
     "is_executing": false
    }
   },
   "outputs": [],
   "source": [
    "sys.path.insert(0, '../src/')"
   ]
  },
  {
   "cell_type": "code",
   "execution_count": 4,
   "metadata": {},
   "outputs": [],
   "source": [
    "SAVE=False"
   ]
  },
  {
   "cell_type": "code",
   "execution_count": 5,
   "metadata": {
    "pycharm": {
     "is_executing": false
    }
   },
   "outputs": [],
   "source": [
    "from logger import LogData, TemporalLogger, EnvLogger\n",
    "from utils import plot_typography"
   ]
  },
  {
   "cell_type": "code",
   "execution_count": 6,
   "metadata": {
    "pycharm": {
     "is_executing": false
    }
   },
   "outputs": [],
   "source": [
    "plot_typography(True, 12, 14, 16)"
   ]
  },
  {
   "cell_type": "code",
   "execution_count": 7,
   "metadata": {
    "pycharm": {
     "is_executing": false
    }
   },
   "outputs": [],
   "source": [
    "__file__ = \"analysis.ipynb\"\n",
    "log_dir = join(dirname(dirname(abspath(__file__))), \"log\")\n",
    "decimate = 100\n",
    "\n",
    "\n",
    "def figure_factory(log_dir, env, variant, rew_scale=5, feat_scale=1, decimate=100, save=True, loc_feat=1, loc_rwd=4, zoom_feat=2.5, zoom_rwd=2.5):\n",
    "    # sanity check\n",
    "    if variant not in [0,4]:\n",
    "        raise ValueError(f\"Invalid variant, got {variant}, should be 0 or 4\")\n",
    "    \n",
    "    # load data \n",
    "    el = EnvLogger(f\"{env}NoFrameskip-v{variant}\", log_dir, decimate)\n",
    "\n",
    "    # plot\n",
    "    rwd_metrics = el.plot_decorator(keyword=\"rewards\", save=save, y_inset_std_scale=rew_scale, loc=loc_rwd, zoom=zoom_rwd)\n",
    "    el.plot_decorator(keyword=\"features\", save=save, y_inset_std_scale=feat_scale, loc=loc_feat, zoom=zoom_feat)\n",
    "\n",
    "    return rwd_metrics"
   ]
  },
  {
   "cell_type": "code",
   "execution_count": null,
   "metadata": {},
   "outputs": [],
   "source": [
    "pong_metrics4 = figure_factory(log_dir, \"Pong\", 4, 5, .5, 100, save=SAVE, loc_rwd=4, loc_feat=1, zoom_rwd=2., zoom_feat=4) "
   ]
  },
  {
   "cell_type": "code",
   "execution_count": null,
   "metadata": {},
   "outputs": [],
   "source": [
    "breakout_metrics4 = figure_factory(log_dir, \"Breakout\", 4, 1.85, 1, 100, save=SAVE, loc_rwd=2, loc_feat=4, zoom_rwd=1.75, zoom_feat=1.7) "
   ]
  },
  {
   "cell_type": "code",
   "execution_count": null,
   "metadata": {},
   "outputs": [],
   "source": [
    "seaquest_metrics4 = figure_factory(log_dir, \"Seaquest\", 4, 1.3, 1.5, 100, save=SAVE, loc_rwd=2, loc_feat=1, zoom_rwd=2.1, zoom_feat=1.2) "
   ]
  },
  {
   "cell_type": "code",
   "execution_count": null,
   "metadata": {},
   "outputs": [],
   "source": [
    "# seeds set\n",
    "\n",
    "pong_metrics0 = figure_factory(log_dir, \"Pong\", 0, 3.85, .75, 100, save=SAVE, loc_rwd=4, loc_feat=1)"
   ]
  },
  {
   "cell_type": "code",
   "execution_count": null,
   "metadata": {},
   "outputs": [],
   "source": [
    "#not saved\n",
    "breakout_metrics0 = figure_factory(log_dir, \"Breakout\", 0, 2.4, .5, 100, save=SAVE, loc_rwd=2, loc_feat=4, zoom_rwd=1.5, zoom_feat=2.5)"
   ]
  },
  {
   "cell_type": "code",
   "execution_count": null,
   "metadata": {},
   "outputs": [],
   "source": [
    "#not saved\n",
    "seaquest_metrics0 = figure_factory(log_dir, \"Seaquest\", 0, 1.4, .4, 100, save=SAVE, loc_rwd=2, loc_feat=4, zoom_rwd=1.65, zoom_feat=2.5) "
   ]
  },
  {
   "cell_type": "code",
   "execution_count": 20,
   "metadata": {},
   "outputs": [],
   "source": [
    "df0 = pd.DataFrame([pong_metrics0, breakout_metrics0, seaquest_metrics0])\n",
    "df4 = pd.DataFrame([pong_metrics4, breakout_metrics4, seaquest_metrics4])\n",
    "df=pd.concat([df0,df4])"
   ]
  },
  {
   "cell_type": "code",
   "execution_count": 21,
   "metadata": {},
   "outputs": [
    {
     "data": {
      "text/html": [
       "<div>\n",
       "<style scoped>\n",
       "    .dataframe tbody tr th:only-of-type {\n",
       "        vertical-align: middle;\n",
       "    }\n",
       "\n",
       "    .dataframe tbody tr th {\n",
       "        vertical-align: top;\n",
       "    }\n",
       "\n",
       "    .dataframe thead th {\n",
       "        text-align: right;\n",
       "    }\n",
       "</style>\n",
       "<table border=\"1\" class=\"dataframe\">\n",
       "  <thead>\n",
       "    <tr style=\"text-align: right;\">\n",
       "      <th></th>\n",
       "      <th>Baseline</th>\n",
       "      <th>ICM, single attention</th>\n",
       "      <th>ICM, double attention</th>\n",
       "      <th>AttA2C</th>\n",
       "      <th>RCM</th>\n",
       "    </tr>\n",
       "  </thead>\n",
       "  <tbody>\n",
       "    <tr>\n",
       "      <th>0</th>\n",
       "      <td>96.138059</td>\n",
       "      <td>100.000000</td>\n",
       "      <td>96.592801</td>\n",
       "      <td>94.411685</td>\n",
       "      <td>99.951489</td>\n",
       "    </tr>\n",
       "    <tr>\n",
       "      <th>1</th>\n",
       "      <td>82.247977</td>\n",
       "      <td>89.171067</td>\n",
       "      <td>83.069633</td>\n",
       "      <td>100.000000</td>\n",
       "      <td>81.334197</td>\n",
       "    </tr>\n",
       "    <tr>\n",
       "      <th>2</th>\n",
       "      <td>96.045262</td>\n",
       "      <td>89.432758</td>\n",
       "      <td>87.058865</td>\n",
       "      <td>65.331944</td>\n",
       "      <td>100.000000</td>\n",
       "    </tr>\n",
       "    <tr>\n",
       "      <th>0</th>\n",
       "      <td>92.438752</td>\n",
       "      <td>100.000000</td>\n",
       "      <td>91.454840</td>\n",
       "      <td>92.014815</td>\n",
       "      <td>96.293855</td>\n",
       "    </tr>\n",
       "    <tr>\n",
       "      <th>1</th>\n",
       "      <td>78.797046</td>\n",
       "      <td>85.189829</td>\n",
       "      <td>81.772541</td>\n",
       "      <td>100.000000</td>\n",
       "      <td>84.179994</td>\n",
       "    </tr>\n",
       "    <tr>\n",
       "      <th>2</th>\n",
       "      <td>89.098096</td>\n",
       "      <td>92.043366</td>\n",
       "      <td>83.936876</td>\n",
       "      <td>66.426037</td>\n",
       "      <td>100.000000</td>\n",
       "    </tr>\n",
       "  </tbody>\n",
       "</table>\n",
       "</div>"
      ],
      "text/plain": [
       "    Baseline  ICM, single attention  ICM, double attention      AttA2C  \\\n",
       "0  96.138059             100.000000              96.592801   94.411685   \n",
       "1  82.247977              89.171067              83.069633  100.000000   \n",
       "2  96.045262              89.432758              87.058865   65.331944   \n",
       "0  92.438752             100.000000              91.454840   92.014815   \n",
       "1  78.797046              85.189829              81.772541  100.000000   \n",
       "2  89.098096              92.043366              83.936876   66.426037   \n",
       "\n",
       "          RCM  \n",
       "0   99.951489  \n",
       "1   81.334197  \n",
       "2  100.000000  \n",
       "0   96.293855  \n",
       "1   84.179994  \n",
       "2  100.000000  "
      ]
     },
     "execution_count": 21,
     "metadata": {},
     "output_type": "execute_result"
    }
   ],
   "source": [
    "df"
   ]
  },
  {
   "cell_type": "code",
   "execution_count": 22,
   "metadata": {},
   "outputs": [
    {
     "data": {
      "text/plain": [
       "(array([89.12753187, 92.63950328, 87.31425922, 86.36408027, 93.62658931]),\n",
       " array([ 6.60826177,  5.57554363,  5.21911844, 14.7673495 ,  7.83900973]),\n",
       " array([90.76842391, 90.73806195, 85.49787035, 93.21325007, 98.12267201]))"
      ]
     },
     "execution_count": 22,
     "metadata": {},
     "output_type": "execute_result"
    }
   ],
   "source": [
    "df.to_numpy().mean(axis=0), df.to_numpy().std(axis=0), np.median(df.to_numpy(),axis=0)"
   ]
  },
  {
   "cell_type": "code",
   "execution_count": null,
   "metadata": {},
   "outputs": [],
   "source": []
  }
 ],
 "metadata": {
  "kernelspec": {
   "display_name": "Python 3",
   "language": "python",
   "name": "python3"
  },
  "language_info": {
   "codemirror_mode": {
    "name": "ipython",
    "version": 3
   },
   "file_extension": ".py",
   "mimetype": "text/x-python",
   "name": "python",
   "nbconvert_exporter": "python",
   "pygments_lexer": "ipython3",
   "version": "3.7.3"
  }
 },
 "nbformat": 4,
 "nbformat_minor": 2
}
