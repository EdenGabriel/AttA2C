{
 "cells": [
  {
   "cell_type": "code",
   "execution_count": 1,
   "metadata": {
    "pycharm": {
     "is_executing": false
    }
   },
   "outputs": [],
   "source": [
    "import matplotlib.pyplot as plt\n",
    "from os.path import isfile, join, abspath, dirname\n",
    "from os import listdir\n",
    "import sys\n",
    "import pandas as pd\n",
    "import numpy as np"
   ]
  },
  {
   "cell_type": "code",
   "execution_count": 2,
   "metadata": {
    "pycharm": {
     "is_executing": false
    }
   },
   "outputs": [],
   "source": [
    "%matplotlib inline\n",
    "%load_ext autoreload\n",
    "%autoreload 2"
   ]
  },
  {
   "cell_type": "code",
   "execution_count": 3,
   "metadata": {
    "pycharm": {
     "is_executing": false
    }
   },
   "outputs": [],
   "source": [
    "sys.path.insert(0, '../src/')"
   ]
  },
  {
   "cell_type": "code",
   "execution_count": 4,
   "metadata": {
    "pycharm": {
     "is_executing": false
    }
   },
   "outputs": [],
   "source": [
    "from logger import LogData, TemporalLogger, EnvLogger\n",
    "from utils import plot_typography"
   ]
  },
  {
   "cell_type": "code",
   "execution_count": 5,
   "metadata": {
    "pycharm": {
     "is_executing": false
    }
   },
   "outputs": [],
   "source": [
    "plot_typography(True, 12, 14, 16)"
   ]
  },
  {
   "cell_type": "code",
   "execution_count": 10,
   "metadata": {
    "pycharm": {
     "is_executing": false
    }
   },
   "outputs": [],
   "source": [
    "__file__ = \"analysis.ipynb\"\n",
    "log_dir = join(dirname(dirname(abspath(__file__))), \"log\")\n",
    "envs =  [\"PongNoFrameskip-v0\", \"PongNoFrameskip-v4\",\n",
    "         \"BreakoutNoFrameskip-v0\", \"BreakoutNoFrameskip-v4\",\n",
    "         \"SeaquestNoFrameskip-v0\", \"SeaquestNoFrameskip-v4\"]\n",
    "cols = ['attention_target', 'attention_type', 'env_name', \n",
    "        'timestamp', 'mean_reward',\n",
    "       'mean_feat_std', 'mean_proxy']\n",
    "decimate = 100\n",
    "\n",
    "\n",
    "def figure_factory(log_dir, env, variant, rew_scale=5, feat_scale=1, decimate=100, save=True, loc_feat=1, loc_rwd=4, zoom_feat=2.5, zoom_rwd=2.5):\n",
    "    # sanity check\n",
    "    if variant not in [0,4]:\n",
    "        raise ValueError(f\"Invalid variant, got {variant}, should be 0 or 4\")\n",
    "    \n",
    "    # load data \n",
    "    el = EnvLogger(f\"{env}NoFrameskip-v{variant}\", log_dir, decimate)\n",
    "\n",
    "    # plot\n",
    "    rwd_metrics = el.plot_decorator(keyword=\"rewards\", save=save, y_inset_std_scale=rew_scale, loc=loc_rwd, zoom=zoom_rwd)\n",
    "    el.plot_decorator(keyword=\"features\", save=save, y_inset_std_scale=feat_scale, loc=loc_feat, zoom=zoom_feat)\n",
    "\n",
    "    return rwd_metrics"
   ]
  },
  {
   "cell_type": "code",
   "execution_count": null,
   "metadata": {},
   "outputs": [],
   "source": [
    "pong_metrics4 = figure_factory(log_dir, \"Pong\", 4, 5, .5, 100, save=False, loc_rwd=4, loc_feat=1, zoom_rwd=2.5, zoom_feat=4) "
   ]
  },
  {
   "cell_type": "code",
   "execution_count": null,
   "metadata": {},
   "outputs": [],
   "source": [
    "breakout_metrics4 = figure_factory(log_dir, \"Breakout\", 4, 3.5, 1, 100, save=False, loc_rwd=2, loc_feat=4, zoom_rwd=2.75, zoom_feat=3.7) "
   ]
  },
  {
   "cell_type": "code",
   "execution_count": null,
   "metadata": {},
   "outputs": [],
   "source": [
    "seaquest_metrics4 = figure_factory(log_dir, \"Seaquest\", 4, 1.2, 1., 100, save=False, loc_rwd=2, loc_feat=1, zoom_rwd=2.1, zoom_feat=1.7) "
   ]
  },
  {
   "cell_type": "code",
   "execution_count": null,
   "metadata": {},
   "outputs": [],
   "source": [
    "# seeds set\n",
    "\n",
    "pong_metrics0 = figure_factory(log_dir, \"Pong\", 0, 3.85, .75, 100, save=False, loc_rwd=4, loc_feat=1)"
   ]
  },
  {
   "cell_type": "code",
   "execution_count": null,
   "metadata": {},
   "outputs": [],
   "source": [
    "#not saved\n",
    "breakout_metrics0 = figure_factory(log_dir, \"Breakout\", 0, 2.4, .5, 100, save=False, loc_rwd=2, loc_feat=4, zoom_rwd=1.5, zoom_feat=2.5)"
   ]
  },
  {
   "cell_type": "code",
   "execution_count": null,
   "metadata": {},
   "outputs": [],
   "source": [
    "#not saved\n",
    "seaquest_metrics0 = figure_factory(log_dir, \"Seaquest\", 0, 1.4, .4, 100, save=False, loc_rwd=2, loc_feat=4, zoom_rwd=1.65, zoom_feat=2.5) "
   ]
  },
  {
   "cell_type": "code",
   "execution_count": 14,
   "metadata": {},
   "outputs": [],
   "source": [
    "df0 = pd.DataFrame([pong_metrics0, breakout_metrics0, seaquest_metrics0])\n",
    "df4 = pd.DataFrame([pong_metrics4, breakout_metrics4, seaquest_metrics4])\n",
    "df=pd.concat([df0,df4])"
   ]
  },
  {
   "cell_type": "code",
   "execution_count": 15,
   "metadata": {},
   "outputs": [
    {
     "data": {
      "text/html": [
       "<div>\n",
       "<style scoped>\n",
       "    .dataframe tbody tr th:only-of-type {\n",
       "        vertical-align: middle;\n",
       "    }\n",
       "\n",
       "    .dataframe tbody tr th {\n",
       "        vertical-align: top;\n",
       "    }\n",
       "\n",
       "    .dataframe thead th {\n",
       "        text-align: right;\n",
       "    }\n",
       "</style>\n",
       "<table border=\"1\" class=\"dataframe\">\n",
       "  <thead>\n",
       "    <tr style=\"text-align: right;\">\n",
       "      <th></th>\n",
       "      <th>Baseline</th>\n",
       "      <th>ICM, single attention</th>\n",
       "      <th>ICM, double attention</th>\n",
       "      <th>AttA2C</th>\n",
       "      <th>RCM</th>\n",
       "    </tr>\n",
       "  </thead>\n",
       "  <tbody>\n",
       "    <tr>\n",
       "      <th>0</th>\n",
       "      <td>96.138059</td>\n",
       "      <td>100.000000</td>\n",
       "      <td>96.592801</td>\n",
       "      <td>94.411685</td>\n",
       "      <td>99.951489</td>\n",
       "    </tr>\n",
       "    <tr>\n",
       "      <th>1</th>\n",
       "      <td>82.247977</td>\n",
       "      <td>89.171067</td>\n",
       "      <td>83.069633</td>\n",
       "      <td>100.000000</td>\n",
       "      <td>81.334197</td>\n",
       "    </tr>\n",
       "    <tr>\n",
       "      <th>2</th>\n",
       "      <td>96.045262</td>\n",
       "      <td>89.432758</td>\n",
       "      <td>87.058865</td>\n",
       "      <td>65.331944</td>\n",
       "      <td>100.000000</td>\n",
       "    </tr>\n",
       "    <tr>\n",
       "      <th>0</th>\n",
       "      <td>94.669607</td>\n",
       "      <td>100.000000</td>\n",
       "      <td>94.045772</td>\n",
       "      <td>94.119132</td>\n",
       "      <td>98.701972</td>\n",
       "    </tr>\n",
       "    <tr>\n",
       "      <th>1</th>\n",
       "      <td>95.039593</td>\n",
       "      <td>96.821546</td>\n",
       "      <td>92.266545</td>\n",
       "      <td>100.000000</td>\n",
       "      <td>95.325408</td>\n",
       "    </tr>\n",
       "    <tr>\n",
       "      <th>2</th>\n",
       "      <td>89.826709</td>\n",
       "      <td>93.888922</td>\n",
       "      <td>100.000000</td>\n",
       "      <td>74.197706</td>\n",
       "      <td>96.550187</td>\n",
       "    </tr>\n",
       "  </tbody>\n",
       "</table>\n",
       "</div>"
      ],
      "text/plain": [
       "    Baseline  ICM, single attention  ICM, double attention      AttA2C  \\\n",
       "0  96.138059             100.000000              96.592801   94.411685   \n",
       "1  82.247977              89.171067              83.069633  100.000000   \n",
       "2  96.045262              89.432758              87.058865   65.331944   \n",
       "0  94.669607             100.000000              94.045772   94.119132   \n",
       "1  95.039593              96.821546              92.266545  100.000000   \n",
       "2  89.826709              93.888922             100.000000   74.197706   \n",
       "\n",
       "          RCM  \n",
       "0   99.951489  \n",
       "1   81.334197  \n",
       "2  100.000000  \n",
       "0   98.701972  \n",
       "1   95.325408  \n",
       "2   96.550187  "
      ]
     },
     "execution_count": 15,
     "metadata": {},
     "output_type": "execute_result"
    }
   ],
   "source": [
    "df"
   ]
  },
  {
   "cell_type": "code",
   "execution_count": 16,
   "metadata": {},
   "outputs": [
    {
     "data": {
      "text/plain": [
       "(array([92.32786763, 94.88571552, 92.17226928, 88.01007786, 95.31054211]),\n",
       " array([ 4.98387019,  4.46177857,  5.67653452, 13.35974642,  6.47953637]),\n",
       " array([94.85459978, 95.35523433, 93.1561586 , 94.26540853, 97.62607948]))"
      ]
     },
     "execution_count": 16,
     "metadata": {},
     "output_type": "execute_result"
    }
   ],
   "source": [
    "df.to_numpy().mean(axis=0), df.to_numpy().std(axis=0), np.median(df.to_numpy(),axis=0)"
   ]
  }
 ],
 "metadata": {
  "kernelspec": {
   "display_name": "Python 3",
   "language": "python",
   "name": "python3"
  },
  "language_info": {
   "codemirror_mode": {
    "name": "ipython",
    "version": 3
   },
   "file_extension": ".py",
   "mimetype": "text/x-python",
   "name": "python",
   "nbconvert_exporter": "python",
   "pygments_lexer": "ipython3",
   "version": "3.7.3"
  }
 },
 "nbformat": 4,
 "nbformat_minor": 2
}
